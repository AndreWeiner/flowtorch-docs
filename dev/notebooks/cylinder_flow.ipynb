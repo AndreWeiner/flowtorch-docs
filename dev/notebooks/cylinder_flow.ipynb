{
 "cells": [
  {
   "cell_type": "markdown",
   "metadata": {},
   "source": [
    "# Cylinder flow\n",
    "\n",
    "Classical cylinder flow example."
   ]
  },
  {
   "cell_type": "code",
   "execution_count": 12,
   "metadata": {},
   "outputs": [],
   "source": [
    "from flowtorch.data import FOAMDataloader\n",
    "import struct"
   ]
  },
  {
   "cell_type": "code",
   "execution_count": 2,
   "metadata": {},
   "outputs": [],
   "source": [
    "dataloader = FOAMDataloader(\"../../../test/test_data/run/cavity_binary\")"
   ]
  },
  {
   "cell_type": "code",
   "execution_count": 3,
   "metadata": {},
   "outputs": [
    {
     "name": "stdout",
     "output_type": "stream",
     "text": [
      "Parsing vector field...\n",
      "400 internal values\n",
      "38\n",
      "17\n",
      "b'()|\\xd8Qp\\x9b0?\\xef\\x7f\\x89\\x98\\xf3i0\\xbf\\x00\\x00\\x00\\x00\\x00\\x00\\x00\\x00fE\\x10\\xf9\\x19\\x82\"?\\xb4\\xa7\\x83p\\x855\\x1d?\\x00\\x00\\x00\\x00\\x00\\x00\\x00\\x00\\xca\\xc3\\xca*\\xddHS\\xbf\\x18>7\\xc5f\\x80B?\\x00\\x00\\x00\\x00\\x00\\x00\\x00\\x00\\xcbi\\x97V\\xc7\\x84l\\xbf8b\\x9a&\\x15\\x00M?\\xfc\\xbc\\x0b\\x8bwC\\xf0;hTe>\\x9c\\x1fz\\xbf4\\x07\\xa455\"Q?\\x7f\\xd6iAV\\r\\xf2;\\xb9\\x8c\\xda\\x1a\\xfcd\\x83\\xbfX\\xdd\\xe5\\xdd{eQ?\\x00\\x00\\x00\\x00\\x00\\x00\\x00\\x00\\xf1\\x7f\\xed\\xd9\\rg\\x89\\xbf\\xda\\x84\\xe0\\x88acO?\\x00\\x00\\x00\\x00\\x00\\x00\\x00\\x00\\xf5\\xb5\\xb8\\xb8i|\\x8e\\xbf\\xaf}\\xa5\\xe6M\\xebH?\\x00\\x00\\x00\\x00\\x00\\x00\\x00\\x00\\xb0J\\x88\\xeeI\\x17\\x91\\xbf\\x98\\xc3<\\xfd\\x8c5@?\\x00\\x00\\x00\\x00\\x00\\x00\\x00\\x00WA\\x10\\xc2D\\x15\\x92\\xbf~\\x877\\x83\\xfe0(?\\x00\\x00\\x00\\x00\\x00\\x00\\x00\\x00\\xb4\\xd9k-\\xc5 \\x92\\xbf\\xf7\\x1b\\xf6\\x19\\xc7'\n",
      "b'#\\xbf8\\xb9\\x0f;\\xfd\\xb9\\x08<\\xcf\\x86\\xc6J\\x985\\x91\\xbf\\xda\\xea\\xbbOV\\xb2>\\xbfR}ah\\x9cw\\x10<I\\xe6F\\x9b\\x85\\xc8\\x8e\\xbf.\\'.\\xea5\\xc1H\\xbf\\x00\\x00\\x00\\x00\\x00\\x00\\x00\\x00\\xd0\\xd7\\x98\\x92\\x1e\\xa7\\x89\\xbf\\xc5<\\xb8\\xb4%\\xedO\\xbf\\xaeip\\xc3\\xfb\\xf0\\x16\\xbc\\xffj\\xe9\\xb5\\xd3\\x82\\x83\\xbf\\x1a:\\x9a\\xff\\x05\\xe1Q\\xbf\\xd5\\xb5\\x0f\\x8f\\xc0\\xc0\\x18\\xbc1\\x15!\\xbe\\xff\\x07z\\xbf\\xfcmb4\\xf4\\x98Q\\xbf\\x00\\x00\\x00\\x00\\x00\\x00\\x00\\x00\\xd6o\\x94\"\\xf7\\xdbk\\xbf0\\xc4\\xe6\\x9c^nM\\xbf\\x00\\x00\\x00\\x00\\x00\\x00\\x00\\x00j\\xbdz;\\xf7\\xccQ\\xbf\\x1b\\x18C\\xd7\\x8b;B\\xbf\\x00\\x00\\x00\\x00\\x00\\x00\\x00\\x00>\\x95+r\\x96\\xbf)?L\\x9f\\xed\\x0bj\\xb0\\x17\\xbf\\x00\\x00\\x00\\x00\\x00\\x00\\x00\\x00\\x8e\\xe7\\x84\\x803\\x8e1?\\xd4\\x01\\xde\\x07Z21?\\x00\\x00\\x00\\x00\\x00\\x00\\x00\\x00@r\\x98\\x9bBO\\x14\\xbf~T?\\x8b\\xec3&\\xbf\\x00\\x00\\x00\\x00\\x00\\x00\\x00\\x00\\x8a\\xf9\\xd3\\xf2\\xc9gZ\\xbf8\\xb0\\xa4\\xaa9\\xf3Z?\\x00\\x00\\x00\\x00\\x00\\x00\\x00\\x00\\xdb\\xddz\\x0f\\xceQw\\xbf\\xeb4'\n"
     ]
    }
   ],
   "source": [
    "data = dataloader.load_snapshot(\"U\", \"0.5\")"
   ]
  },
  {
   "cell_type": "code",
   "execution_count": 4,
   "metadata": {},
   "outputs": [
    {
     "data": {
      "text/plain": [
       "NoneType"
      ]
     },
     "execution_count": 4,
     "metadata": {},
     "output_type": "execute_result"
    }
   ],
   "source": [
    "type(data)"
   ]
  },
  {
   "cell_type": "code",
   "execution_count": 5,
   "metadata": {},
   "outputs": [
    {
     "name": "stdout",
     "output_type": "stream",
     "text": [
      "<class 'str'> word\n",
      "<class 'bytes'> b'word'\n"
     ]
    }
   ],
   "source": [
    "word = \"word\"\n",
    "print(type(word), word)\n",
    "word_b = word.encode()\n",
    "print(type(word_b), word_b)"
   ]
  },
  {
   "cell_type": "code",
   "execution_count": 14,
   "metadata": {},
   "outputs": [
    {
     "ename": "error",
     "evalue": "unpack requires a buffer of 4 bytes",
     "output_type": "error",
     "traceback": [
      "\u001b[0;31m---------------------------------------------------------------------------\u001b[0m",
      "\u001b[0;31merror\u001b[0m                                     Traceback (most recent call last)",
      "\u001b[0;32m<ipython-input-14-f9abe13e48ba>\u001b[0m in \u001b[0;36m<module>\u001b[0;34m\u001b[0m\n\u001b[0;32m----> 1\u001b[0;31m \u001b[0mstruct\u001b[0m\u001b[0;34m.\u001b[0m\u001b[0munpack\u001b[0m\u001b[0;34m(\u001b[0m\u001b[0;34m\"f\"\u001b[0m\u001b[0;34m,\u001b[0m \u001b[0;34mb\"\\x00Ef\"\u001b[0m\u001b[0;34m)\u001b[0m\u001b[0;34m\u001b[0m\u001b[0;34m\u001b[0m\u001b[0m\n\u001b[0m",
      "\u001b[0;31merror\u001b[0m: unpack requires a buffer of 4 bytes"
     ]
    }
   ],
   "source": [
    "bval = struct.pack(3.14)"
   ]
  },
  {
   "cell_type": "code",
   "execution_count": null,
   "metadata": {},
   "outputs": [],
   "source": []
  }
 ],
 "metadata": {
  "kernelspec": {
   "display_name": "Python 3",
   "language": "python",
   "name": "python3"
  },
  "language_info": {
   "codemirror_mode": {
    "name": "ipython",
    "version": 3
   },
   "file_extension": ".py",
   "mimetype": "text/x-python",
   "name": "python",
   "nbconvert_exporter": "python",
   "pygments_lexer": "ipython3",
   "version": "3.8.3"
  }
 },
 "nbformat": 4,
 "nbformat_minor": 4
}
